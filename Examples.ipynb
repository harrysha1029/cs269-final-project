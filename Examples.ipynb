{
 "cells": [
  {
   "cell_type": "code",
   "execution_count": 49,
   "metadata": {},
   "outputs": [
    {
     "name": "stdout",
     "output_type": "stream",
     "text": [
      "The autoreload extension is already loaded. To reload it, use:\n",
      "  %reload_ext autoreload\n"
     ]
    }
   ],
   "source": [
    "%load_ext autoreload\n",
    "%autoreload 2\n",
    "from hillery_classical import Hillery1Party, HillerySecretShare1, make_key, recombine\n"
   ]
  },
  {
   "cell_type": "markdown",
   "metadata": {},
   "source": [
    "## Make a secret shared key\n",
    "Use the convenience function make_key to create a shared key between A, B, C, of length n such that B, C must work together to learn the key. This function assumes that B and C follow the protocol as expected. "
   ]
  },
  {
   "cell_type": "code",
   "execution_count": 50,
   "metadata": {},
   "outputs": [
    {
     "name": "stdout",
     "output_type": "stream",
     "text": [
      "[0, 0, 1, 0, 0, 1, 1, 0, 1, 0, 1, 0, 0, 0, 0, 1, 0, 1, 0, 1]\n",
      "[0, 0, 1, 0, 0, 1, 1, 0, 1, 0, 1, 0, 0, 0, 0, 1, 0, 1, 0, 1]\n",
      "[0, 0, 1, 0, 0, 1, 1, 0, 1, 0, 1, 0, 0, 0, 0, 1, 0, 1, 0, 1]\n"
     ]
    }
   ],
   "source": [
    "n = 20\n",
    "A, B, C = [Hillery1Party(x) for x in 'ABC']\n",
    "make_key(A, B, C, n)\n",
    "print(A.key)\n",
    "print(B.key)\n",
    "print(C.key)"
   ]
  },
  {
   "cell_type": "code",
   "execution_count": 51,
   "metadata": {},
   "outputs": [],
   "source": [
    "A, B, C = [Hillery1Party(x) for x in 'ABC']\n",
    "ss = HillerySecretShare1((A, B, C))"
   ]
  },
  {
   "cell_type": "markdown",
   "metadata": {},
   "source": [
    "To more accurately represent the real world, and allow for modelling of malicious users, we make each user interact with the secret sharer. The run function checks that all parties have interacted in a valid order, and runs the secret sharing protocol, if the announced measurement directions work. Otherwize, it announces the execution failed and they must start again. This generates one bit at a time."
   ]
  },
  {
   "cell_type": "code",
   "execution_count": 82,
   "metadata": {},
   "outputs": [
    {
     "name": "stdout",
     "output_type": "stream",
     "text": [
      "execution failed\n",
      "[1, 0, 0, 1, 0, 1, 1, 1, 0, 1, 0]\n",
      "[1, 0, 0, 1, 0, 1, 1, 1, 0, 1, 0]\n"
     ]
    }
   ],
   "source": [
    "# Run this block multiple times!\n",
    "A.interact(ss)\n",
    "B.interact(ss)\n",
    "C.interact(ss) \n",
    "\n",
    "ss.run(1)\n",
    "recombine(B, C)\n",
    "print(B.key)"
   ]
  },
  {
   "cell_type": "markdown",
   "metadata": {},
   "source": [
    "## Share a quantum state between 2 parties\n",
    "The second algorithm from Hillery 1998 allows us to share a quantum state between two parties such that they must work together in order to deduce the shared state. "
   ]
  },
  {
   "cell_type": "code",
   "execution_count": 83,
   "metadata": {},
   "outputs": [],
   "source": [
    "from hillery_quantum import Hillery2Party, HillerySecretShare2"
   ]
  },
  {
   "cell_type": "code",
   "execution_count": null,
   "metadata": {},
   "outputs": [],
   "source": []
  }
 ],
 "metadata": {
  "kernelspec": {
   "display_name": "Python 3",
   "language": "python",
   "name": "python3"
  },
  "language_info": {
   "codemirror_mode": {
    "name": "ipython",
    "version": 3
   },
   "file_extension": ".py",
   "mimetype": "text/x-python",
   "name": "python",
   "nbconvert_exporter": "python",
   "pygments_lexer": "ipython3",
   "version": "3.7.3"
  }
 },
 "nbformat": 4,
 "nbformat_minor": 2
}
