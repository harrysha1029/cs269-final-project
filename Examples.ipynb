{
 "cells": [
  {
   "cell_type": "code",
   "execution_count": 13,
   "metadata": {},
   "outputs": [
    {
     "name": "stdout",
     "output_type": "stream",
     "text": [
      "The autoreload extension is already loaded. To reload it, use:\n",
      "  %reload_ext autoreload\n"
     ]
    }
   ],
   "source": [
    "%load_ext autoreload\n",
    "%autoreload 2\n",
    "from hillery_classical import Hillery1Party, HillerySecretShare1, make_key, recombine\n"
   ]
  },
  {
   "cell_type": "markdown",
   "metadata": {},
   "source": [
    "## Make a secret shared key\n",
    "Use the convenience function make_key to create a shared key between A, B, C, of length n such that B, C must work together to learn the key. This function assumes that B and C follow the protocol as expected. "
   ]
  },
  {
   "cell_type": "code",
   "execution_count": 14,
   "metadata": {},
   "outputs": [
    {
     "name": "stdout",
     "output_type": "stream",
     "text": [
      "[1, 0, 1, 1, 1, 1, 0, 1, 1, 1, 1, 1, 0, 0, 0, 1, 1, 1, 0, 1]\n",
      "[1, 0, 1, 1, 1, 1, 0, 1, 1, 1, 1, 1, 0, 0, 0, 1, 1, 1, 0, 1]\n",
      "[1, 0, 1, 1, 1, 1, 0, 1, 1, 1, 1, 1, 0, 0, 0, 1, 1, 1, 0, 1]\n"
     ]
    }
   ],
   "source": [
    "n = 20\n",
    "A, B, C = [Hillery1Party(x) for x in 'ABC']\n",
    "make_key(A, B, C, n)\n",
    "print(A.key)\n",
    "print(B.key)\n",
    "print(C.key)"
   ]
  },
  {
   "cell_type": "markdown",
   "metadata": {},
   "source": [
    "To more accurately represent the real world, and allow for modelling of malicious users, we make each user interact with the secret sharer. The run function checks that all parties have interacted in a valid order, and that the measurement directions are compatible with each other (this should happend about 1/2 of the time if all parties are honest), and runs the secret sharing protocol. Otherwize, it announces the execution failed. Iterating, we can generate the secret one bit at a time."
   ]
  },
  {
   "cell_type": "code",
   "execution_count": 15,
   "metadata": {},
   "outputs": [],
   "source": [
    "A, B, C = [Hillery1Party(x) for x in 'ABC']\n",
    "ss = HillerySecretShare1((A, B, C))"
   ]
  },
  {
   "cell_type": "code",
   "execution_count": 16,
   "metadata": {},
   "outputs": [
    {
     "name": "stdout",
     "output_type": "stream",
     "text": [
      "execution failed\n",
      "[]\n",
      "execution failed\n",
      "[]\n",
      "success\n",
      "[0]\n",
      "execution failed\n",
      "[0]\n",
      "success\n",
      "[0, 0]\n",
      "execution failed\n",
      "[0, 0]\n",
      "execution failed\n",
      "[0, 0]\n",
      "success\n",
      "[0, 0, 0]\n",
      "success\n",
      "[0, 0, 0, 0]\n",
      "success\n",
      "[0, 0, 0, 0, 1]\n"
     ]
    }
   ],
   "source": [
    "# Run this block multiple times!\n",
    "for i in range(10):\n",
    "    A.interact(ss)\n",
    "    B.interact(ss)\n",
    "    C.interact(ss) \n",
    "\n",
    "    ss.run(verbose=1)\n",
    "    recombine(B, C)\n",
    "    print(B.key)"
   ]
  },
  {
   "cell_type": "markdown",
   "metadata": {},
   "source": [
    "## Share a quantum state between 2 parties\n",
    "The second algorithm from Hillery 1998 allows us to share a quantum state between two parties such that they must work together in order to deduce the shared state. In this example, Alice wants to share $$0.6 |0\\rangle -0.8i |1\\rangle.$$ \n",
    "The protocol then requires $B$ to interact with the program, and then depending on $B$'s result, $C$ can perform a correction to the secret qubit to obtain the secret. In the printed wave function $C$'s bit is the third from the right. "
   ]
  },
  {
   "cell_type": "code",
   "execution_count": 17,
   "metadata": {},
   "outputs": [],
   "source": [
    "from hillery_quantum import Hillery2Party, HillerySecretShare2, Alice"
   ]
  },
  {
   "cell_type": "code",
   "execution_count": 18,
   "metadata": {},
   "outputs": [
    {
     "name": "stdout",
     "output_type": "stream",
     "text": [
      "The resulting wavefunction is  (0.6+0j)|0010> + -0.8j|0110>\n"
     ]
    }
   ],
   "source": [
    "A = Alice('A', (0.6, -0.8j))\n",
    "B = Hillery2Party('B')\n",
    "C = Hillery2Party('C')\n",
    "ss = HillerySecretShare2((A, B, C))\n",
    "B.interact(ss)\n",
    "ss.run(verbose=1)\n"
   ]
  },
  {
   "cell_type": "markdown",
   "metadata": {},
   "source": [
    "## Share a quantum state between many parties\n",
    "This is the algorithm from Cleve, 1999, which allows a secret to be shared amongst $n$ people such that $k$ of them are required to reconstruct the secret. Here $n$ must be less than or equal to $2k-1$. Due to the fact that this protocol requires that each qubit has $q$ basis states (instead of just 0, 1), we simulate the protocol. In the following example, $n = 5, k = 3$, and the secret is the state $0.8 |1\\rangle + 0.6i |3\\rangle$"
   ]
  },
  {
   "cell_type": "code",
   "execution_count": 19,
   "metadata": {},
   "outputs": [],
   "source": [
    "from cleve import CleveParty, CleveSecretShare"
   ]
  },
  {
   "cell_type": "code",
   "execution_count": 20,
   "metadata": {},
   "outputs": [
    {
     "name": "stdout",
     "output_type": "stream",
     "text": [
      "{'001100100100100': 0.8, '001001010001010': 0.8, '001011000011000': 0.8, '001000011000011': 0.8, '001010001010001': 0.8, '001000000000000': 0.8, '001010011010011': 0.8, '001100001100001': 0.8, '001001100001100': 0.8, '001011010011010': 0.8, '001001001001001': 0.8, '001011100011100': 0.8, '001000010000010': 0.8, '001010000010000': 0.8, '001100011100011': 0.8, '001010010010010': 0.8, '001100000100000': 0.8, '001001011001011': 0.8, '001011001011001': 0.8, '001000100000100': 0.8, '001011011011011': 0.8, '001000001000001': 0.8, '001010100010100': 0.8, '001100010100010': 0.8, '001001000001000': 0.8, '011010010010010': -0.6j, '011100000100000': -0.6j, '011001011001011': -0.6j, '011011001011001': -0.6j, '011000100000100': -0.6j, '011011011011011': -0.6j, '011000001000001': -0.6j, '011010100010100': -0.6j, '011100010100010': -0.6j, '011001000001000': -0.6j, '011100100100100': -0.6j, '011001010001010': -0.6j, '011011000011000': -0.6j, '011000011000011': -0.6j, '011010001010001': -0.6j, '011000000000000': -0.6j, '011010011010011': -0.6j, '011100001100001': -0.6j, '011001100001100': -0.6j, '011011010011010': -0.6j, '011001001001001': -0.6j, '011011100011100': -0.6j, '011000010000010': -0.6j, '011010000010000': -0.6j, '011100011100011': -0.6j}\n"
     ]
    }
   ],
   "source": [
    "parties = [CleveParty(x) for x in range(1, 6)]\n",
    "p1, p2, p3, p4, p5 = parties\n",
    "x = CleveSecretShare(parties, 3)\n",
    "x.split([(1, 4/5), (3, 3/5j)])\n",
    "print(x.recombine([p1, p4, p5]))\n"
   ]
  },
  {
   "cell_type": "code",
   "execution_count": null,
   "metadata": {},
   "outputs": [],
   "source": []
  }
 ],
 "metadata": {
  "kernelspec": {
   "display_name": "Python 3",
   "language": "python",
   "name": "python3"
  },
  "language_info": {
   "codemirror_mode": {
    "name": "ipython",
    "version": 3
   },
   "file_extension": ".py",
   "mimetype": "text/x-python",
   "name": "python",
   "nbconvert_exporter": "python",
   "pygments_lexer": "ipython3",
   "version": "3.7.3"
  }
 },
 "nbformat": 4,
 "nbformat_minor": 2
}
